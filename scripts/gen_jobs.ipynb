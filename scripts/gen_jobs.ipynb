{
 "cells": [
  {
   "cell_type": "code",
   "execution_count": 26,
   "metadata": {
    "scrolled": false
   },
   "outputs": [],
   "source": [
    "import numpy as np\n",
    "\n",
    "formatstring = \"\"\"#!/bin/sh\n",
    "\n",
    "#SBATCH -N 1\n",
    "#SBATCH --ntasks-per-node=48\n",
    "#SBATCH --time=02:00:00\n",
    "#SBATCH --job-name=tensorflow\n",
    "#SBATCH --error=job.%J.err\n",
    "#SBATCH --output=job.%J.out\n",
    "#SBATCH --partition=standard\n",
    "\n",
    "cd $SLURM_SUBMIT_DIR\n",
    "\n",
    "file=\"/home/collins/Param_test/label\"\n",
    "name=$(cat \"$file\")\n",
    "name=\"${{name}}_{}\"\n",
    "\n",
    "module load python/3.7\n",
    "python /home/collins/Param_test/initExperiment.py '/home/collins/Param_test/Od/{}.odor' '/home/collins/Param_test/Op/Dur_6000_OdorDur_1000.protocol' '/home/collins/Param_test/Lc/{}.locust' '{}' $name '{}'\n",
    "\"\"\"\n",
    "\n",
    "n_rep_per_odor = 10\n",
    "odors = [\"OdorA_High\",\"OdorB_High\",\"OdorC_High\"]\n",
    "locusts = [\"Locust_A\",\"Locust_B\",\"Locust_C\"]\n",
    "sweep_param = np.linspace(0,2.5,6)\n",
    "for n in sweep_param:\n",
    "    for i in range(1,n_rep_per_odor+1):\n",
    "        for j in odors:\n",
    "            for k in locusts:\n",
    "                with open(\"{}_L{}_{}{}.sh\".format(np.round(n,1),k[-1],j.split('_')[0][-1],i),'w') as file:\n",
    "                    print(formatstring.format(n,j,k,i,n),file=file)"
   ]
  },
  {
   "cell_type": "code",
   "execution_count": 27,
   "metadata": {},
   "outputs": [
    {
     "name": "stdout",
     "output_type": "stream",
     "text": [
      "#!/bin/sh\n",
      "\n",
      "#SBATCH -N 1\n",
      "#SBATCH --ntasks-per-node=48\n",
      "#SBATCH --time=02:00:00\n",
      "#SBATCH --job-name=tensorflow\n",
      "#SBATCH --error=job.%J.err\n",
      "#SBATCH --output=job.%J.out\n",
      "#SBATCH --partition=standard\n",
      "\n",
      "cd $SLURM_SUBMIT_DIR\n",
      "\n",
      "file=\"/home/collins/Param_test/label\"\n",
      "name=$(cat \"$file\")\n",
      "name=\"${name}_1\"\n",
      "\n",
      "module load python/3.7\n",
      "python /home/collins/Param_test/initExperiment.py '/home/collins/Param_test/Od/hi.odor' '/home/collins/Param_test/Op/Dur_6000_OdorDur_1000.protocol' '/home/collins/Param_test/Lc/bi.locust' '1' $name '1'\n",
      "\n"
     ]
    }
   ],
   "source": [
    "print(formatstring.format(1,\"hi\",\"bi\",1,1))"
   ]
  },
  {
   "cell_type": "code",
   "execution_count": null,
   "metadata": {},
   "outputs": [],
   "source": []
  },
  {
   "cell_type": "code",
   "execution_count": null,
   "metadata": {},
   "outputs": [],
   "source": []
  }
 ],
 "metadata": {
  "kernelspec": {
   "display_name": "Python 3",
   "language": "python",
   "name": "python3"
  },
  "language_info": {
   "codemirror_mode": {
    "name": "ipython",
    "version": 3
   },
   "file_extension": ".py",
   "mimetype": "text/x-python",
   "name": "python",
   "nbconvert_exporter": "python",
   "pygments_lexer": "ipython3",
   "version": "3.6.6"
  }
 },
 "nbformat": 4,
 "nbformat_minor": 2
}
