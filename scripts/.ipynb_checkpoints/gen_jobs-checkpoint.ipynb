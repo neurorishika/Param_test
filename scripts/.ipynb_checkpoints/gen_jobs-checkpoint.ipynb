{
 "cells": [
  {
   "cell_type": "code",
   "execution_count": 6,
   "metadata": {
    "scrolled": false
   },
   "outputs": [],
   "source": [
    "import numpy as np\n",
    "\n",
    "formatstring = \"\"\"#!/bin/sh\n",
    "\n",
    "#SBATCH -N 1\n",
    "#SBATCH --ntasks-per-node=48\n",
    "#SBATCH --time=12:00:00\n",
    "#SBATCH --job-name=tensorflow\n",
    "#SBATCH --error=../run/job.%J.err\n",
    "#SBATCH --output=../run/job.%J.out\n",
    "#SBATCH --partition=standard\n",
    "#SBATCH -a 0-9\n",
    "\n",
    "cd $SLURM_SUBMIT_DIR\n",
    "\n",
    "file=\"/home/collins/Param_test/label\"\n",
    "name=$(cat \"$file\")\n",
    "name=\"${{name}}_{param}\"\n",
    "\n",
    "module load python/3.7\n",
    "python /home/collins/Param_test/initExperiment.py '/home/collins/Param_test/Od/{od}' '/home/collins/Param_test/Op/Dur_6000_OdorDur_1000.protocol' '/home/collins/Param_test/Lc/{lc}' $SLURM_ARRAY_TASK_ID $name '{param}'\n",
    "\"\"\"\n",
    "\n",
    "sweep_param = np.linspace(0,2.5,6)\n",
    "for n in sweep_param:\n",
    "    for od in [\"OdorA_High.odor\",\"OdorB_High.odor\",\"OdorC_High.odor\"]:\n",
    "        for lc in [\"Locust_A.locust\",\"Locust_B.locust\",\"Locust_C.locust\"]:\n",
    "            with open(\"lnpn_{}_od_{}_lc_{}.sh\".format(np.round(n,1),od.split('_')[0][-1],lc.split('_')[1][0]),'w') as file:\n",
    "                print(formatstring.format(param=n,od=od,lc=lc),file=file)"
   ]
  },
  {
   "cell_type": "code",
   "execution_count": 7,
   "metadata": {},
   "outputs": [
    {
     "name": "stdout",
     "output_type": "stream",
     "text": [
      "#!/bin/sh\n",
      "\n",
      "#SBATCH -N 1\n",
      "#SBATCH --ntasks-per-node=48\n",
      "#SBATCH --time=12:00:00\n",
      "#SBATCH --job-name=tensorflow\n",
      "#SBATCH --error=out/job.%J.err\n",
      "#SBATCH --output=out/job.%J.out\n",
      "#SBATCH --partition=standard\n",
      "#SBATCH -a 0-9\n",
      "\n",
      "cd $SLURM_SUBMIT_DIR\n",
      "\n",
      "file=\"/home/collins/Param_test/label\"\n",
      "name=$(cat \"$file\")\n",
      "name=\"${name}_1\"\n",
      "\n",
      "module load python/3.7\n",
      "python /home/collins/Param_test/initExperiment.py '/home/collins/Param_test/Od/hi' '/home/collins/Param_test/Op/Dur_6000_OdorDur_1000.protocol' '/home/collins/Param_test/Lc/bi' $SLURM_ARRAY_TASK_ID $name '1'\n",
      "\n"
     ]
    }
   ],
   "source": [
    "print(formatstring.format(param=1,od=\"hi\",lc=\"bi\"))"
   ]
  },
  {
   "cell_type": "code",
   "execution_count": null,
   "metadata": {},
   "outputs": [],
   "source": []
  },
  {
   "cell_type": "code",
   "execution_count": null,
   "metadata": {},
   "outputs": [],
   "source": []
  }
 ],
 "metadata": {
  "kernelspec": {
   "display_name": "Python 3",
   "language": "python",
   "name": "python3"
  },
  "language_info": {
   "codemirror_mode": {
    "name": "ipython",
    "version": 3
   },
   "file_extension": ".py",
   "mimetype": "text/x-python",
   "name": "python",
   "nbconvert_exporter": "python",
   "pygments_lexer": "ipython3",
   "version": "3.6.6"
  }
 },
 "nbformat": 4,
 "nbformat_minor": 2
}
