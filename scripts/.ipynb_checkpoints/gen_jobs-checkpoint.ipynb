{
 "cells": [
  {
   "cell_type": "code",
   "execution_count": 30,
   "metadata": {
    "scrolled": false
   },
   "outputs": [],
   "source": [
    "import numpy as np\n",
    "\n",
    "formatstring = \"\"\"#!/bin/sh\n",
    "\n",
    "#SBATCH -N 1\n",
    "#SBATCH --ntasks-per-node=48\n",
    "#SBATCH --time=12:00:00\n",
    "#SBATCH --job-name=tensorflow\n",
    "#SBATCH --error=out/job.%J.err\n",
    "#SBATCH --output=out/job.%J.out\n",
    "#SBATCH --partition=standard\n",
    "\n",
    "cd $SLURM_SUBMIT_DIR\n",
    "\n",
    "file=\"/home/collins/Param_test/label\"\n",
    "name=$(cat \"$file\")\n",
    "name=\"${{name}}_{param}\"\n",
    "\n",
    "module load python/3.7\n",
    "srun -N 1 python /home/collins/Param_test/initExperiment.py '/home/collins/Param_test/Od/OdorA_High.odor' '/home/collins/Param_test/Op/Dur_6000_OdorDur_1000.protocol' '/home/collins/Param_test/Lc/Locust_A.locust' '{rep}' $name '{param}'\n",
    "srun -N 1 python /home/collins/Param_test/initExperiment.py '/home/collins/Param_test/Od/OdorB_High.odor' '/home/collins/Param_test/Op/Dur_6000_OdorDur_1000.protocol' '/home/collins/Param_test/Lc/Locust_A.locust' '{rep}' $name '{param}'\n",
    "srun -N 1 python /home/collins/Param_test/initExperiment.py '/home/collins/Param_test/Od/OdorC_High.odor' '/home/collins/Param_test/Op/Dur_6000_OdorDur_1000.protocol' '/home/collins/Param_test/Lc/Locust_A.locust' '{rep}' $name '{param}'\n",
    "srun -N 1 python /home/collins/Param_test/initExperiment.py '/home/collins/Param_test/Od/OdorA_High.odor' '/home/collins/Param_test/Op/Dur_6000_OdorDur_1000.protocol' '/home/collins/Param_test/Lc/Locust_B.locust' '{rep}' $name '{param}'\n",
    "srun -N 1 python /home/collins/Param_test/initExperiment.py '/home/collins/Param_test/Od/OdorB_High.odor' '/home/collins/Param_test/Op/Dur_6000_OdorDur_1000.protocol' '/home/collins/Param_test/Lc/Locust_B.locust' '{rep}' $name '{param}'\n",
    "srun -N 1 python /home/collins/Param_test/initExperiment.py '/home/collins/Param_test/Od/OdorC_High.odor' '/home/collins/Param_test/Op/Dur_6000_OdorDur_1000.protocol' '/home/collins/Param_test/Lc/Locust_B.locust' '{rep}' $name '{param}'\n",
    "srun -N 1 python /home/collins/Param_test/initExperiment.py '/home/collins/Param_test/Od/OdorA_High.odor' '/home/collins/Param_test/Op/Dur_6000_OdorDur_1000.protocol' '/home/collins/Param_test/Lc/Locust_C.locust' '{rep}' $name '{param}'\n",
    "srun -N 1 python /home/collins/Param_test/initExperiment.py '/home/collins/Param_test/Od/OdorB_High.odor' '/home/collins/Param_test/Op/Dur_6000_OdorDur_1000.protocol' '/home/collins/Param_test/Lc/Locust_C.locust' '{rep}' $name '{param}'\n",
    "srun -N 1 python /home/collins/Param_test/initExperiment.py '/home/collins/Param_test/Od/OdorC_High.odor' '/home/collins/Param_test/Op/Dur_6000_OdorDur_1000.protocol' '/home/collins/Param_test/Lc/Locust_C.locust' '{rep}' $name '{param}'\n",
    "\"\"\"\n",
    "\n",
    "n_rep_per_odor = 10\n",
    "sweep_param = np.linspace(0,2.5,6)\n",
    "for n in sweep_param:\n",
    "    for i in range(1,n_rep_per_odor+1):\n",
    "        for j in odors:\n",
    "            for k in locusts:\n",
    "                with open(\"{}_L{}_{}{}.sh\".format(np.round(n,1),k[-1],j.split('_')[0][-1],i),'w') as file:\n",
    "                    print(formatstring.format(n,j,k,i,n),file=file)"
   ]
  },
  {
   "cell_type": "code",
   "execution_count": 31,
   "metadata": {},
   "outputs": [
    {
     "name": "stdout",
     "output_type": "stream",
     "text": [
      "#!/bin/sh\n",
      "\n",
      "#SBATCH -N 1\n",
      "#SBATCH --ntasks-per-node=48\n",
      "#SBATCH --time=02:00:00\n",
      "#SBATCH --job-name=tensorflow\n",
      "#SBATCH --error=job.%J-%a.err\n",
      "#SBATCH --output=job.%J-%a.out\n",
      "#SBATCH --partition=standard\n",
      "#SBATCH -a 0-9\n",
      "\n",
      "cd $SLURM_SUBMIT_DIR\n",
      "\n",
      "file=\"/home/collins/Param_test/label\"\n",
      "name=$(cat \"$file\")\n",
      "name=\"${name}_1\"\n",
      "\n",
      "module load python/3.7\n",
      "python /home/collins/Param_test/initExperiment.py '/home/collins/Param_test/Od/hi.odor' '/home/collins/Param_test/Op/Dur_6000_OdorDur_1000.protocol' '/home/collins/Param_test/Lc/bi.locust' $SLURM_ARRAY_TASK_ID $name '1'\n",
      "\n"
     ]
    }
   ],
   "source": [
    "print(formatstring.format(1,\"hi\",\"bi\",1,1))"
   ]
  },
  {
   "cell_type": "code",
   "execution_count": null,
   "metadata": {},
   "outputs": [],
   "source": []
  },
  {
   "cell_type": "code",
   "execution_count": null,
   "metadata": {},
   "outputs": [],
   "source": []
  }
 ],
 "metadata": {
  "kernelspec": {
   "display_name": "Python 3",
   "language": "python",
   "name": "python3"
  },
  "language_info": {
   "codemirror_mode": {
    "name": "ipython",
    "version": 3
   },
   "file_extension": ".py",
   "mimetype": "text/x-python",
   "name": "python",
   "nbconvert_exporter": "python",
   "pygments_lexer": "ipython3",
   "version": "3.6.6"
  }
 },
 "nbformat": 4,
 "nbformat_minor": 2
}
