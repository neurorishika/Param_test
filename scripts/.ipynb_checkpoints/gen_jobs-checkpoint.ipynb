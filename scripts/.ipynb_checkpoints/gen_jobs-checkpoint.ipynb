{
 "cells": [
  {
   "cell_type": "code",
   "execution_count": 21,
   "metadata": {
    "scrolled": false
   },
   "outputs": [
    {
     "ename": "KeyError",
     "evalue": "'name\\\\'",
     "output_type": "error",
     "traceback": [
      "\u001b[0;31m---------------------------------------------------------------------------\u001b[0m",
      "\u001b[0;31mKeyError\u001b[0m                                  Traceback (most recent call last)",
      "\u001b[0;32m<ipython-input-21-249e8d5bfa37>\u001b[0m in \u001b[0;36m<module>\u001b[0;34m\u001b[0m\n\u001b[1;32m     30\u001b[0m             \u001b[0;32mfor\u001b[0m \u001b[0mk\u001b[0m \u001b[0;32min\u001b[0m \u001b[0mlocusts\u001b[0m\u001b[0;34m:\u001b[0m\u001b[0;34m\u001b[0m\u001b[0m\n\u001b[1;32m     31\u001b[0m                 \u001b[0;32mwith\u001b[0m \u001b[0mopen\u001b[0m\u001b[0;34m(\u001b[0m\u001b[0;34m\"{}_L{}_{}{}.sh\"\u001b[0m\u001b[0;34m.\u001b[0m\u001b[0mformat\u001b[0m\u001b[0;34m(\u001b[0m\u001b[0mnp\u001b[0m\u001b[0;34m.\u001b[0m\u001b[0mround\u001b[0m\u001b[0;34m(\u001b[0m\u001b[0mn\u001b[0m\u001b[0;34m,\u001b[0m\u001b[0;36m1\u001b[0m\u001b[0;34m)\u001b[0m\u001b[0;34m,\u001b[0m\u001b[0mk\u001b[0m\u001b[0;34m[\u001b[0m\u001b[0;34m-\u001b[0m\u001b[0;36m1\u001b[0m\u001b[0;34m]\u001b[0m\u001b[0;34m,\u001b[0m\u001b[0mj\u001b[0m\u001b[0;34m.\u001b[0m\u001b[0msplit\u001b[0m\u001b[0;34m(\u001b[0m\u001b[0;34m'_'\u001b[0m\u001b[0;34m)\u001b[0m\u001b[0;34m[\u001b[0m\u001b[0;36m0\u001b[0m\u001b[0;34m]\u001b[0m\u001b[0;34m[\u001b[0m\u001b[0;34m-\u001b[0m\u001b[0;36m1\u001b[0m\u001b[0;34m]\u001b[0m\u001b[0;34m,\u001b[0m\u001b[0mi\u001b[0m\u001b[0;34m)\u001b[0m\u001b[0;34m,\u001b[0m\u001b[0;34m'w'\u001b[0m\u001b[0;34m)\u001b[0m \u001b[0;32mas\u001b[0m \u001b[0mfile\u001b[0m\u001b[0;34m:\u001b[0m\u001b[0;34m\u001b[0m\u001b[0m\n\u001b[0;32m---> 32\u001b[0;31m                     \u001b[0mprint\u001b[0m\u001b[0;34m(\u001b[0m\u001b[0mformatstring\u001b[0m\u001b[0;34m.\u001b[0m\u001b[0mformat\u001b[0m\u001b[0;34m(\u001b[0m\u001b[0mn\u001b[0m\u001b[0;34m,\u001b[0m\u001b[0mj\u001b[0m\u001b[0;34m,\u001b[0m\u001b[0mk\u001b[0m\u001b[0;34m,\u001b[0m\u001b[0mi\u001b[0m\u001b[0;34m,\u001b[0m\u001b[0mn\u001b[0m\u001b[0;34m)\u001b[0m\u001b[0;34m,\u001b[0m\u001b[0mfile\u001b[0m\u001b[0;34m=\u001b[0m\u001b[0mfile\u001b[0m\u001b[0;34m)\u001b[0m\u001b[0;34m\u001b[0m\u001b[0m\n\u001b[0m",
      "\u001b[0;31mKeyError\u001b[0m: 'name\\\\'"
     ]
    }
   ],
   "source": [
    "import numpy as np\n",
    "\n",
    "formatstring = \"\"\"#!/bin/sh\n",
    "\n",
    "#SBATCH -N 1\n",
    "#SBATCH --ntasks-per-node=48\n",
    "#SBATCH --time=02:00:00\n",
    "#SBATCH --job-name=tensorflow\n",
    "#SBATCH --error=job.%J.err\n",
    "#SBATCH --output=job.%J.out\n",
    "#SBATCH --partition=standard\n",
    "\n",
    "cd $SLURM_SUBMIT_DIR\n",
    "\n",
    "file=\"/home/collins/Param_test/label\"\n",
    "name=$(cat \"$file\")\n",
    "name=\"${name}_{}\"\n",
    "\n",
    "module load python/3.7\n",
    "python /home/collins/Param_test/initExperiment.py '/home/collins/Param_test/Od/{}.odor' '/home/collins/Param_test/Op/Dur_6000_OdorDur_1000.protocol' '/home/collins/Param_test/Lc/{}.locust' '{}' $name '{}'\n",
    "\"\"\"\n",
    "\n",
    "n_rep_per_odor = 10\n",
    "odors = [\"OdorA_High\",\"OdorB_High\",\"OdorC_High\"]\n",
    "locusts = [\"Locust_A\",\"Locust_B\",\"Locust_C\"]\n",
    "sweep_param = np.linspace(0,2,5)\n",
    "for n in sweep_param:\n",
    "    for i in range(1,n_rep_per_odor+1):\n",
    "        for j in odors:\n",
    "            for k in locusts:\n",
    "                with open(\"{}_L{}_{}{}.sh\".format(np.round(n,1),k[-1],j.split('_')[0][-1],i),'w') as file:\n",
    "                    print(formatstring.format(n,j,k,i,n),file=file)"
   ]
  },
  {
   "cell_type": "code",
   "execution_count": 10,
   "metadata": {},
   "outputs": [
    {
     "name": "stdout",
     "output_type": "stream",
     "text": [
      "#!/bin/sh\n",
      "\n",
      "#SBATCH -N 1\n",
      "#SBATCH --ntasks-per-node=48\n",
      "#SBATCH --time=02:00:00\n",
      "#SBATCH --job-name=tensorflow\n",
      "#SBATCH --error=job.%J.err\n",
      "#SBATCH --output=job.%J.out\n",
      "#SBATCH --partition=standard\n",
      "\n",
      "cd $SLURM_SUBMIT_DIR\n",
      "\n",
      "file=\"/home/collins/Param_test/label\"\n",
      "name=$(cat \"$file\")\n",
      "\n",
      "module load python/3.7\n",
      "python /home/collins/Param_test/initExperiment.py '/home/collins/Param_test/Od/hi.odor' '/home/collins/Param_test/Op/Dur_6000_OdorDur_1000.protocol' '/home/collins/Param_test/Lc/bi.locust' '1' $name\n",
      "\n"
     ]
    }
   ],
   "source": [
    "print(formatstring.format(\"hi\",\"bi\",1))"
   ]
  },
  {
   "cell_type": "code",
   "execution_count": null,
   "metadata": {},
   "outputs": [],
   "source": []
  },
  {
   "cell_type": "code",
   "execution_count": null,
   "metadata": {},
   "outputs": [],
   "source": []
  }
 ],
 "metadata": {
  "kernelspec": {
   "display_name": "Python 3",
   "language": "python",
   "name": "python3"
  },
  "language_info": {
   "codemirror_mode": {
    "name": "ipython",
    "version": 3
   },
   "file_extension": ".py",
   "mimetype": "text/x-python",
   "name": "python",
   "nbconvert_exporter": "python",
   "pygments_lexer": "ipython3",
   "version": "3.6.6"
  }
 },
 "nbformat": 4,
 "nbformat_minor": 2
}
